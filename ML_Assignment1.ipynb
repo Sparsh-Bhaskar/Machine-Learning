{
  "nbformat": 4,
  "nbformat_minor": 0,
  "metadata": {
    "colab": {
      "provenance": []
    },
    "kernelspec": {
      "name": "python3",
      "display_name": "Python 3"
    },
    "language_info": {
      "name": "python"
    }
  },
  "cells": [
    {
      "cell_type": "markdown",
      "source": [
        "## Q1: Basic NumPy Array\n",
        "\n",
        "- (a) Reverse the NumPy array:  \n",
        "  Given: `arr = np.array([1, 2, 3, 6, 4, 5])`"
      ],
      "metadata": {
        "id": "CCNTs3HoGT50"
      }
    },
    {
      "cell_type": "code",
      "execution_count": 2,
      "metadata": {
        "colab": {
          "base_uri": "https://localhost:8080/"
        },
        "id": "ktxObKE566jW",
        "outputId": "a8126151-303f-41d4-b745-ed5d4af46743"
      },
      "outputs": [
        {
          "output_type": "stream",
          "name": "stdout",
          "text": [
            "[5 4 3 2 1]\n"
          ]
        }
      ],
      "source": [
        "import numpy as np\n",
        "arr = np.array([1, 2, 3, 4, 5])\n",
        "reversed = np.flip(arr)\n",
        "\n",
        "print(reversed)"
      ]
    },
    {
      "cell_type": "markdown",
      "source": [
        "- (b) Flatten the NumPy array:  \n",
        "  Given: `array1 = np.array([[1, 2, 3], [2, 4, 5], [1, 2, 3]])`  \n",
        "  Use any two NumPy in-built methods."
      ],
      "metadata": {
        "id": "jny9P1cyGdK-"
      }
    },
    {
      "cell_type": "code",
      "source": [
        "arr1 = np.array([[1, 2, 3], [2, 4, 5], [1, 2, 3]])\n",
        "flat1 = arr1.flatten()\n",
        "flat2 = arr1.ravel()\n",
        "\n",
        "print(flat1)\n",
        "print(flat2)"
      ],
      "metadata": {
        "colab": {
          "base_uri": "https://localhost:8080/"
        },
        "id": "hTir8jpp92F0",
        "outputId": "771b5f93-b91a-4fea-9109-dd4f75c3a8d1"
      },
      "execution_count": 3,
      "outputs": [
        {
          "output_type": "stream",
          "name": "stdout",
          "text": [
            "[1 2 3 2 4 5 1 2 3]\n",
            "[1 2 3 2 4 5 1 2 3]\n"
          ]
        }
      ]
    },
    {
      "cell_type": "markdown",
      "source": [
        "- (c) Compare the following NumPy arrays:  \n",
        "  `arr1 = np.array([[1, 2], [3, 4]])`  \n",
        "  `arr2 = np.array([[1, 2], [3, 4]])`"
      ],
      "metadata": {
        "id": "Fx9Bh57NGj5a"
      }
    },
    {
      "cell_type": "code",
      "source": [
        "arr1 = np.array([[1, 2], [3, 4]])\n",
        "arr2 = np.array([[1, 2], [3, 4]])\n",
        "\n",
        "print(np.equal(arr1, arr2))"
      ],
      "metadata": {
        "colab": {
          "base_uri": "https://localhost:8080/"
        },
        "id": "nH6ne-EG-9aL",
        "outputId": "95ff3271-e2b3-498b-b6aa-c589c5f47ea1"
      },
      "execution_count": 4,
      "outputs": [
        {
          "output_type": "stream",
          "name": "stdout",
          "text": [
            "[[ True  True]\n",
            " [ True  True]]\n"
          ]
        }
      ]
    },
    {
      "cell_type": "markdown",
      "source": [
        "- (d) Find the most frequent value and their indices in the arrays:  \n",
        "  i. `x = np.array([1,2,3,4,5,1,2,1,1,1])`  \n",
        "  ii. `y = np.array([1, 1, 1, 2, 3, 4, 2, 4, 3, 3])`"
      ],
      "metadata": {
        "id": "3TFt4pjuGoH5"
      }
    },
    {
      "cell_type": "code",
      "source": [
        "x = np.array([5,2,3,4,1,1,2,5,1,1])\n",
        "x1, idx = np.unique(x, return_index=True)\n",
        "count = np.unique(x, return_counts=True)\n",
        "\n",
        "print(f\"the most frequent element is {x1[0]} and the index of it is {idx[0]}\")"
      ],
      "metadata": {
        "colab": {
          "base_uri": "https://localhost:8080/"
        },
        "id": "TngF-Ysk_fB_",
        "outputId": "1f82944b-f887-4e3e-f0b5-d726687d7510"
      },
      "execution_count": 5,
      "outputs": [
        {
          "output_type": "stream",
          "name": "stdout",
          "text": [
            "the most frequent element is 1 and the index of it is 4\n"
          ]
        }
      ]
    },
    {
      "cell_type": "code",
      "source": [
        "y = np.array([1, 1, 1, 2, 3, 4, 2, 4, 3, 3, ])\n",
        "y1, idx1 = np.unique(y, return_index=True)\n",
        "count1 = np.unique(y, return_counts=True)\n",
        "\n",
        "print(f\"the most frequent element is {y1[0]} and the index of it is {idx1[0]}\")"
      ],
      "metadata": {
        "colab": {
          "base_uri": "https://localhost:8080/"
        },
        "id": "Nxrq5gUBCgKQ",
        "outputId": "7b261aaf-00ff-4144-f565-55bdb776670c"
      },
      "execution_count": 6,
      "outputs": [
        {
          "output_type": "stream",
          "name": "stdout",
          "text": [
            "the most frequent element is 1 and the index of it is 0\n"
          ]
        }
      ]
    },
    {
      "cell_type": "markdown",
      "source": [
        "- (e) For the matrix `gfg = np.matrix('[4, 1, 9; 12, 3, 1; 4, 5, 6]')`, find:  \n",
        "  - i. Sum of all elements  \n",
        "  - ii. Sum of all elements row-wise  \n",
        "  - iii. Sum of all elements column-wise"
      ],
      "metadata": {
        "id": "56w1p5kGGvLS"
      }
    },
    {
      "cell_type": "code",
      "source": [
        "gfg = np.matrix('[4, 1, 9; 12, 3, 1; 4, 5, 6]')\n",
        "total = gfg.sum()\n",
        "print(total)\n",
        "\n",
        "rowsum = gfg.sum(axis=1)\n",
        "print(rowsum)\n",
        "\n",
        "colsum = gfg.sum(axis=0)\n",
        "print(colsum)"
      ],
      "metadata": {
        "colab": {
          "base_uri": "https://localhost:8080/"
        },
        "id": "1bppLO1xDBs7",
        "outputId": "60093bf2-58fc-40e1-947b-46ea9796ba54"
      },
      "execution_count": 7,
      "outputs": [
        {
          "output_type": "stream",
          "name": "stdout",
          "text": [
            "45\n",
            "[[14]\n",
            " [16]\n",
            " [15]]\n",
            "[[20  9 16]]\n"
          ]
        }
      ]
    },
    {
      "cell_type": "markdown",
      "source": [
        "- (f) For the matrix `n_array = np.array([[55, 25, 15],[30, 44, 2],[11, 45, 77]])`, find:  \n",
        "  - i. Sum of diagonal elements  \n",
        "  - ii. Eigen values of the matrix  \n",
        "  - iii. Eigen vectors of the matrix  \n",
        "  - iv. Inverse of the matrix  \n",
        "  - v. Determinant of the matrix"
      ],
      "metadata": {
        "id": "29jFp10HG0AQ"
      }
    },
    {
      "cell_type": "code",
      "source": [
        "n_array = np.array([[55, 25, 15],[30, 44, 2],[11, 45, 77]])\n",
        "a = np.diag(n_array) # diagonal vector\n",
        "sumdia = a.sum()\n",
        "print(sumdia)\n",
        "\n",
        "D,V = np.linalg.eig(n_array) # eigen values and eigen vector\n",
        "print(f\"eigen values: {D}\")\n",
        "print(f\"eigen vector: {V}\")\n",
        "\n",
        "inverse = np.linalg.inv(n_array) # inverse of matrix\n",
        "print(f\"inverse of the matrix is {inverse}\")\n",
        "\n",
        "determinant  = np.linalg.det(n_array) # determinant of matrix\n",
        "print(f\"determinant of the matrix is {determinant}\")"
      ],
      "metadata": {
        "colab": {
          "base_uri": "https://localhost:8080/"
        },
        "id": "seMDVBCdEKIA",
        "outputId": "e37dacd3-ab6e-4c4f-c533-918e5d77b4a3"
      },
      "execution_count": 8,
      "outputs": [
        {
          "output_type": "stream",
          "name": "stdout",
          "text": [
            "176\n",
            "eigen values: [98.16835147 28.097044   49.73460452]\n",
            "eigen vector: [[ 0.4574917   0.34637121 -0.15017693]\n",
            " [ 0.28447814 -0.72784061 -0.4852124 ]\n",
            " [ 0.84248058  0.59184038  0.8614034 ]]\n",
            "inverse of the matrix is [[ 0.02404141 -0.00911212 -0.00444671]\n",
            " [-0.01667882  0.02966905  0.0024785 ]\n",
            " [ 0.00631287 -0.01603732  0.01217379]]\n",
            "determinant of the matrix is 137180.0000000001\n"
          ]
        }
      ]
    },
    {
      "cell_type": "markdown",
      "source": [
        "- (g) Multiply the following matrices and also find the covariance between them:  \n",
        "  i. `p = [[1, 2], [2, 3]]`, `q = [[4, 5], [6, 7]]`  \n",
        "  ii. `p = [[1, 2], [2, 3], [4, 5]]`, `q = [[4, 5, 1], [6, 7, 2]]`"
      ],
      "metadata": {
        "id": "81KyaKKDG4Dt"
      }
    },
    {
      "cell_type": "code",
      "source": [
        "p = np.array([[1, 2], [2, 3]])\n",
        "q = np.array([[4, 5], [6, 7]])\n",
        "\n",
        "product = p@q\n",
        "print(product)\n",
        "\n",
        "covar = np.cov(p, q)\n",
        "print(covar)"
      ],
      "metadata": {
        "colab": {
          "base_uri": "https://localhost:8080/"
        },
        "id": "XWIjorNvHOqy",
        "outputId": "a6e09f91-b09a-4393-84ac-e485bc1f7467"
      },
      "execution_count": 9,
      "outputs": [
        {
          "output_type": "stream",
          "name": "stdout",
          "text": [
            "[[16 19]\n",
            " [26 31]]\n",
            "[[0.5 0.5 0.5 0.5]\n",
            " [0.5 0.5 0.5 0.5]\n",
            " [0.5 0.5 0.5 0.5]\n",
            " [0.5 0.5 0.5 0.5]]\n"
          ]
        }
      ]
    },
    {
      "cell_type": "markdown",
      "source": [
        "- (h) For the matrices  \n",
        "  `x = np.array([[2, 3, 4], [3, 2, 9]])`  \n",
        "  `y = np.array([[1, 5, 0], [5, 10, 3]])`  \n",
        "  Find:  \n",
        "  - Inner product  \n",
        "  - Outer product  \n",
        "  - Cartesian product"
      ],
      "metadata": {
        "id": "3SI2IrNHG9jN"
      }
    },
    {
      "cell_type": "code",
      "source": [
        "p = np.array([[2, 3, 4], [3, 2, 9]])\n",
        "q = np.array([[1, 5, 0], [5, 10, 3]])\n",
        "\n",
        "innerprod = np.inner(p, q)\n",
        "print(innerprod)\n",
        "\n",
        "outerprod = np.outer(p, q)\n",
        "print(outerprod)\n",
        "\n",
        "cartesian_product_p, cartesian_product_q = np.meshgrid(p, q)\n",
        "cartesian_product = np.column_stack((cartesian_product_p.ravel(), cartesian_product_q.ravel()))\n",
        "print(f\"Cartesian product:\\n{cartesian_product}\")"
      ],
      "metadata": {
        "colab": {
          "base_uri": "https://localhost:8080/"
        },
        "id": "ii6lg5d0zcre",
        "outputId": "383e3af4-e26a-40ca-ae1e-ccc1fe875d76"
      },
      "execution_count": 10,
      "outputs": [
        {
          "output_type": "stream",
          "name": "stdout",
          "text": [
            "[[17 52]\n",
            " [13 62]]\n",
            "[[ 2 10  0 10 20  6]\n",
            " [ 3 15  0 15 30  9]\n",
            " [ 4 20  0 20 40 12]\n",
            " [ 3 15  0 15 30  9]\n",
            " [ 2 10  0 10 20  6]\n",
            " [ 9 45  0 45 90 27]]\n",
            "Cartesian product:\n",
            "[[ 2  1]\n",
            " [ 3  1]\n",
            " [ 4  1]\n",
            " [ 3  1]\n",
            " [ 2  1]\n",
            " [ 9  1]\n",
            " [ 2  5]\n",
            " [ 3  5]\n",
            " [ 4  5]\n",
            " [ 3  5]\n",
            " [ 2  5]\n",
            " [ 9  5]\n",
            " [ 2  0]\n",
            " [ 3  0]\n",
            " [ 4  0]\n",
            " [ 3  0]\n",
            " [ 2  0]\n",
            " [ 9  0]\n",
            " [ 2  5]\n",
            " [ 3  5]\n",
            " [ 4  5]\n",
            " [ 3  5]\n",
            " [ 2  5]\n",
            " [ 9  5]\n",
            " [ 2 10]\n",
            " [ 3 10]\n",
            " [ 4 10]\n",
            " [ 3 10]\n",
            " [ 2 10]\n",
            " [ 9 10]\n",
            " [ 2  3]\n",
            " [ 3  3]\n",
            " [ 4  3]\n",
            " [ 3  3]\n",
            " [ 2  3]\n",
            " [ 9  3]]\n"
          ]
        }
      ]
    },
    {
      "cell_type": "markdown",
      "source": [
        "## Q2: NumPy Mathematics and Statistics\n",
        "\n",
        "- (a) For the array `array = np.array([[1, -2, 3],[-4, 5, -6]])`, find:  \n",
        "  - i. Element-wise absolute value  \n",
        "  - ii. 25th, 50th, and 75th percentile of the array (flattened, per row, per column)  \n",
        "  - iii. Mean, median, and standard deviation (flattened, per row, per column)"
      ],
      "metadata": {
        "id": "SkiWeyLQHBsi"
      }
    },
    {
      "cell_type": "code",
      "source": [
        "array = np.array([[1, -2, 3],[-4, 5, -6]])\n",
        "print(f\"the absolute array is : \\n {np.abs(array)}\")\n",
        "\n",
        "print(\"flattened percentiles are: \")\n",
        "flattened_percentiles = np.percentile(array.flatten(), [25, 50, 75])\n",
        "print(f\"the 25th percentile is {flattened_percentiles[0]}\")\n",
        "print(f\"the 50th percentile is {flattened_percentiles[1]}\")\n",
        "print(f\"the 75th percentile is {flattened_percentiles[2]}\")\n",
        "print(\"\\n\")\n",
        "\n",
        "print(\"column percentiles are: \")\n",
        "column_percentiles = np.percentile(array, [25, 50, 75], axis=0)\n",
        "print(f\"the 25th percentile is {column_percentiles[0]}\")\n",
        "print(f\"the 50th percentile is {column_percentiles[1]}\")\n",
        "print(f\"the 75th percentile is {column_percentiles[2]}\")\n",
        "print(\"\\n\")\n",
        "\n",
        "print(\"row percentiles are: \")\n",
        "row_percentiles = np.percentile(array, [25, 50, 75], axis=1)\n",
        "print(f\"the 25th percentile is {row_percentiles[0]}\")\n",
        "print(f\"the 50th percentile is {row_percentiles[1]}\")\n",
        "print(f\"the 75th percentile is {row_percentiles[2]}\")\n",
        "print(\"\\n\")\n",
        "\n",
        "mean_flattened = np.mean(array)\n",
        "median_flattened = np.median(array)\n",
        "std_flattened = np.std(array)\n",
        "\n",
        "print(f\"Mean (flattened): {mean_flattened}\")\n",
        "print(f\"Median (flattened): {median_flattened}\")\n",
        "print(f\"Standard Deviation (flattened): {std_flattened}\")\n",
        "print(\"\\n\")\n",
        "\n",
        "mean_columns = np.mean(array, axis=0)\n",
        "median_columns = np.median(array, axis=0)\n",
        "std_columns = np.std(array, axis=0)\n",
        "\n",
        "print(f\"Mean (columns): {mean_columns}\")\n",
        "print(f\"Median (columns): {median_columns}\")\n",
        "print(f\"Standard Deviation (columns): {std_columns}\")\n",
        "print(\"\\n\")\n",
        "\n",
        "mean_rows = np.mean(array, axis=1)\n",
        "median_rows = np.median(array, axis=1)\n",
        "std_rows = np.std(array, axis=1)\n",
        "\n",
        "print(f\"Mean (rows): {mean_rows}\")\n",
        "print(f\"Median (rows): {median_rows}\")\n",
        "print(f\"Standard Deviation (rows): {std_rows}\")"
      ],
      "metadata": {
        "colab": {
          "base_uri": "https://localhost:8080/"
        },
        "id": "PbrLyi1D1A9d",
        "outputId": "12823627-99b5-4b7a-9271-c640d09da436"
      },
      "execution_count": 16,
      "outputs": [
        {
          "output_type": "stream",
          "name": "stdout",
          "text": [
            "the absolute array is : \n",
            " [[1 2 3]\n",
            " [4 5 6]]\n",
            "flattened percentiles are: \n",
            "the 25th percentile is -3.5\n",
            "the 50th percentile is -0.5\n",
            "the 75th percentile is 2.5\n",
            "\n",
            "\n",
            "column percentiles are: \n",
            "the 25th percentile is [-2.75 -0.25 -3.75]\n",
            "the 50th percentile is [-1.5  1.5 -1.5]\n",
            "the 75th percentile is [-0.25  3.25  0.75]\n",
            "\n",
            "\n",
            "row percentiles are: \n",
            "the 25th percentile is [-0.5 -5. ]\n",
            "the 50th percentile is [ 1. -4.]\n",
            "the 75th percentile is [2.  0.5]\n",
            "\n",
            "\n",
            "Mean (flattened): -0.5\n",
            "Median (flattened): -0.5\n",
            "Standard Deviation (flattened): 3.8622100754188224\n",
            "\n",
            "\n",
            "Mean (columns): [-1.5  1.5 -1.5]\n",
            "Median (columns): [-1.5  1.5 -1.5]\n",
            "Standard Deviation (columns): [2.5 3.5 4.5]\n",
            "\n",
            "\n",
            "Mean (rows): [ 0.66666667 -1.66666667]\n",
            "Median (rows): [ 1. -4.]\n",
            "Standard Deviation (rows): [2.05480467 4.78423336]\n"
          ]
        }
      ]
    },
    {
      "cell_type": "markdown",
      "source": [
        "- (b) For the array `a = np.array([-1.8, -1.6, -0.5, 0.5, 1.6, 1.8, 3.0])`, find:  \n",
        "  - Floor values  \n",
        "  - Ceiling values  \n",
        "  - Truncated values  \n",
        "  - Rounded values"
      ],
      "metadata": {
        "id": "Wy_AHuF1HGJa"
      }
    },
    {
      "cell_type": "code",
      "source": [
        "a = np.array([-1.8, -1.6, -0.5, 0.5,1.6, 1.8, 3.0])\n",
        "floor_values = np.floor(a)\n",
        "print(f\"Floor values: {floor_values}\")\n",
        "\n",
        "ceil_values = np.ceil(a)\n",
        "print(f\"Ceil values: {ceil_values}\")\n",
        "\n",
        "trunc_values = np.trunc(a)\n",
        "print(f\"Truncated values: {trunc_values}\")\n",
        "\n",
        "rounded_values_default = np.round(a) # Rounds to nearest integer\n",
        "print(f\"Rounded values (default): {rounded_values_default}\")\n",
        "\n",
        "# rounded_values_decimals = np.round(a, decimals=2) # Rounds to 2 decimal places\n",
        "# print(f\"Rounded values (2 decimals): {rounded_values_decimals}\")"
      ],
      "metadata": {
        "colab": {
          "base_uri": "https://localhost:8080/"
        },
        "id": "K7Buxw6-4Z1Q",
        "outputId": "99f378d7-4e66-47a3-c59e-fe346f5f6a50"
      },
      "execution_count": 18,
      "outputs": [
        {
          "output_type": "stream",
          "name": "stdout",
          "text": [
            "Floor values: [-2. -2. -1.  0.  1.  1.  3.]\n",
            "Ceil values: [-1. -1. -0.  1.  2.  2.  3.]\n",
            "Truncated values: [-1. -1. -0.  0.  1.  1.  3.]\n",
            "Rounded values (default): [-2. -2. -0.  0.  2.  2.  3.]\n"
          ]
        }
      ]
    },
    {
      "cell_type": "markdown",
      "source": [
        "## Q3: Searching and Sorting\n",
        "\n",
        "- (a) For the array `array = np.array([10, 52, 62, 16, 16, 54, 453])`, find:  \n",
        "  - i. Sorted array  \n",
        "  - ii. Indices of sorted array  \n",
        "  - iii. 4 smallest elements  \n",
        "  - iv. 5 largest elements"
      ],
      "metadata": {
        "id": "EMYrnVIRHI-L"
      }
    },
    {
      "cell_type": "code",
      "source": [
        "array = np.array([10, 52, 62, 16, 16, 54, 453])\n",
        "sorted_array = np.sort(array)\n",
        "sorted_indices = np.argsort(array)\n",
        "smallest_4 = sorted_array[:4]\n",
        "largest_5 = sorted_array[-5:]\n",
        "\n",
        "print(f\"Sorted Array: {sorted_array}\")\n",
        "print(f\"Indices of Sorted Array: {sorted_indices}\")\n",
        "print(f\"4 Smallest Elements: {smallest_4}\")\n",
        "print(f\"5 Largest Elements: {largest_5}\")\n"
      ],
      "metadata": {
        "colab": {
          "base_uri": "https://localhost:8080/"
        },
        "id": "3YQ_iBiN9hWx",
        "outputId": "0a68f22d-e645-4fa1-a616-367cbc10e1cb"
      },
      "execution_count": 20,
      "outputs": [
        {
          "output_type": "stream",
          "name": "stdout",
          "text": [
            "Sorted Array: [ 10  16  16  52  54  62 453]\n",
            "Indices of Sorted Array: [0 3 4 1 5 2 6]\n",
            "4 Smallest Elements: [10 16 16 52]\n",
            "5 Largest Elements: [ 16  52  54  62 453]\n"
          ]
        }
      ]
    },
    {
      "cell_type": "markdown",
      "source": [
        "- (b) For the array `array = np.array([1.0, 1.2, 2.2, 2.0, 3.0, 2.0])`, find:  \n",
        "  - i. Integer elements only  \n",
        "  - ii. Float elements only"
      ],
      "metadata": {
        "id": "1Wa3jGA7HNfG"
      }
    },
    {
      "cell_type": "code",
      "source": [
        "array = np.array([1.0, 1.2, 2.2, 2.0, 3.0, 2.0])\n",
        "integers_only = array[np.mod(array, 1) == 0]\n",
        "floats_only = array[np.mod(array, 1) != 0]\n",
        "print(f\"Integers Only: {integers_only}\")\n",
        "print(f\"Floats Only: {floats_only}\")"
      ],
      "metadata": {
        "colab": {
          "base_uri": "https://localhost:8080/"
        },
        "id": "5cAZEUA4D9x6",
        "outputId": "bef9d79b-2e7f-4726-d046-8937b550ec37"
      },
      "execution_count": 23,
      "outputs": [
        {
          "output_type": "stream",
          "name": "stdout",
          "text": [
            "Integers Only: [1. 2. 3. 2.]\n",
            "Floats Only: [1.2 2.2]\n"
          ]
        }
      ]
    }
  ]
}